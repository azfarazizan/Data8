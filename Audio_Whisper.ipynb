import openai
openai.api_key = "apikey" #insert openai API key

with open(r"filepath", "rb") as audio_file:
    transcript = openai.Audio.transcribe(
        file = audio_file,
        model = "whisper-1", #specify the model
        response_format="text", 
        language="en" #specify the language format
    )
print(transcript)

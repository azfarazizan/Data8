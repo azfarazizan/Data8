{
 "cells": [
  {
   "cell_type": "code",
   "execution_count": null,
   "id": "c2f1e51c",
   "metadata": {},
   "outputs": [],
   "source": [
    "import openai\n",
    "openai.api_key = \"apikey\" #insert openai API key\n",
    "\n",
    "with open(r\"filepath\", \"rb\") as audio_file:\n",
    "    transcript = openai.Audio.transcribe(\n",
    "        file = audio_file,\n",
    "        model = \"whisper-1\", #specify the model\n",
    "        response_format=\"text\", \n",
    "        language=\"en\" #specify the language format\n",
    "    )\n",
    "print(transcript)"
   ]
  },
  {
   "cell_type": "code",
   "execution_count": null,
   "id": "230ca0bd",
   "metadata": {},
   "outputs": [],
   "source": [
    "import openai\n",
    "\n",
    "# Path to the audio file\n",
    "audio_file_path = r\"filepath/audio\" \n",
    "\n",
    "# List of correct spellings or uncommon words\n",
    "correct_spellings = [\n",
    "    \"Ambulance\", \"Responder\", \"Transcribe\", \n",
    "    \"Patient\", \"Medical\", \"Emergency\", \n",
    "    \"Paramedic\", \"Siren\", \"Hospital\", \n",
    "    \"Injury\", \"Treatment\", \"Diagnosis\",\n",
    "    \"Taman Esen\", \"NKMI\", \"NKDFA\",\n",
    "    \"LHNBA\", \"preauricular\", \"RA\"\n",
    "]\n",
    "\n",
    "# Construct the prompt as a comma-separated string\n",
    "prompt = \", \".join(correct_spellings)\n",
    "\n",
    "# Open the audio file in binary read mode\n",
    "with open(audio_file_path, \"rb\") as audio_file:\n",
    "    # Transcribe the audio using OpenAI's Whisper ASR system with the specified prompt\n",
    "    transcript = openai.Audio.transcribe(\"whisper-1\", audio_file, prompt=prompt)\n",
    "\n",
    "# By default, the response type will be JSON with the raw text included\n",
    "print(transcript['text'])"
   ]
  }
 ],
 "metadata": {
  "kernelspec": {
   "display_name": "Python 3 (ipykernel)",
   "language": "python",
   "name": "python3"
  },
  "language_info": {
   "codemirror_mode": {
    "name": "ipython",
    "version": 3
   },
   "file_extension": ".py",
   "mimetype": "text/x-python",
   "name": "python",
   "nbconvert_exporter": "python",
   "pygments_lexer": "ipython3",
   "version": "3.10.12"
  }
 },
 "nbformat": 4,
 "nbformat_minor": 5
}
